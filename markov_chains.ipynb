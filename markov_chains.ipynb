{
  "nbformat": 4,
  "nbformat_minor": 0,
  "metadata": {
    "colab": {
      "provenance": [],
      "authorship_tag": "ABX9TyNpLCZi6QOU5UzBlKGzrN+n",
      "include_colab_link": true
    },
    "kernelspec": {
      "name": "python3",
      "display_name": "Python 3"
    },
    "language_info": {
      "name": "python"
    }
  },
  "cells": [
    {
      "cell_type": "markdown",
      "metadata": {
        "id": "view-in-github",
        "colab_type": "text"
      },
      "source": [
        "<a href=\"https://colab.research.google.com/github/Purnima2004/GenAI-IBM/blob/main/markov_chains.ipynb\" target=\"_parent\"><img src=\"https://colab.research.google.com/assets/colab-badge.svg\" alt=\"Open In Colab\"/></a>"
      ]
    },
    {
      "cell_type": "code",
      "execution_count": null,
      "metadata": {
        "id": "LVvXbAooFIDv"
      },
      "outputs": [],
      "source": [
        "#Generating random text using markov chains\n",
        "#markov chains used to predict next word"
      ]
    },
    {
      "cell_type": "code",
      "source": [
        "#Training text: \"The cat sat on the mat\"\n",
        "#break it into pairs called as n-grams"
      ],
      "metadata": {
        "id": "FQ8lbSiiFTdH"
      },
      "execution_count": null,
      "outputs": []
    },
    {
      "cell_type": "code",
      "source": [
        "# markov chains used for text generation, it breaks the sentences."
      ],
      "metadata": {
        "id": "ECkq_ZUSFeut"
      },
      "execution_count": null,
      "outputs": []
    },
    {
      "cell_type": "markdown",
      "source": [],
      "metadata": {
        "id": "JoDmsf8pF9qv"
      }
    },
    {
      "cell_type": "markdown",
      "source": [
        "\"the\" --- \"cat\", \"mat\"\n",
        "\"Cat\" --- \"sat\"\n",
        "\"sat\"---\"on\"\n",
        "\"on\"---\"the\"\n",
        "\"mat\"---end."
      ],
      "metadata": {
        "id": "q3ljdQUpFg3T"
      }
    },
    {
      "cell_type": "code",
      "source": [
        "import random\n",
        "text= \"The cat is sat on the mat.\"\n",
        "words= text.split()\n",
        "print(words)"
      ],
      "metadata": {
        "colab": {
          "base_uri": "https://localhost:8080/"
        },
        "id": "rc-pi5jJIph-",
        "outputId": "fcb346ef-f86b-4d22-b7ac-dcfc3097b88a"
      },
      "execution_count": null,
      "outputs": [
        {
          "output_type": "stream",
          "name": "stdout",
          "text": [
            "['The', 'cat', 'is', 'sat', 'on', 'the', 'mat.']\n"
          ]
        }
      ]
    },
    {
      "cell_type": "code",
      "source": [
        "#here, we need to make possible dictionary\n",
        "chain_dictionary={\n",
        " \"the\":[\"cat\", \"mat\"],\n",
        " \"Cat\":[\"sat\"],\n",
        " \"sat\":[\"on\"],\n",
        " \"on\":[\"the\"],\n",
        " \"mat\":[]\n",
        "}"
      ],
      "metadata": {
        "id": "mYJ1Q2wMFqmW"
      },
      "execution_count": null,
      "outputs": []
    },
    {
      "cell_type": "code",
      "source": [
        "for i in range (len(words)-1):\n",
        "    current_word= words[i]\n",
        "    next_word= words[i+1]\n",
        "    if current_word in chain_dictionary:\n",
        "        chain_dictionary.setdefault(current_word,[]).append(next_word)\n",
        "\n",
        "current_word = random.choice(words)\n",
        "result= [current_word]\n",
        "\n",
        "for _ in range(10):\n",
        "    next_word= chain_dictionary.get(current_word)\n",
        "    if not next_word:\n",
        "        break\n",
        "    next_word= random.choice(next_word)\n",
        "    result.append(current_word)\n",
        "    current_word= next_word\n",
        "\n",
        "print(\" \".join(result))\n"
      ],
      "metadata": {
        "colab": {
          "base_uri": "https://localhost:8080/"
        },
        "id": "AK_vnT4NG8Fe",
        "outputId": "dbcb3041-b30c-4bbd-8817-320b3e2aabfd"
      },
      "execution_count": null,
      "outputs": [
        {
          "output_type": "stream",
          "name": "stdout",
          "text": [
            "sat sat on the\n"
          ]
        }
      ]
    },
    {
      "cell_type": "markdown",
      "source": [
        "\"sat\"---\""
      ],
      "metadata": {
        "id": "aR6X8p8YFu3s"
      }
    },
    {
      "cell_type": "markdown",
      "source": [],
      "metadata": {
        "id": "Tne8CNkLF-i7"
      }
    }
  ]
}